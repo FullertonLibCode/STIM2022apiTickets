{
 "cells": [
  {
   "cell_type": "code",
   "execution_count": 1,
   "metadata": {},
   "outputs": [],
   "source": [
    "#imports and setup\n",
    "import requests\n",
    "client_ID = '413APP-001'\n",
    "with open('.api_info','r') as f:\n",
    "    client_sec = f.read()\n",
    "grant_type='client_credentials'\n",
    "auth_url = 'https://libraryanswers.fullerton.edu/api/1.1/oauth/token'\n",
    "ticket_url = 'https://libraryanswers.fullerton.edu/api/1.1/ticket/create'"
   ]
  },
  {
   "cell_type": "code",
   "execution_count": 2,
   "metadata": {},
   "outputs": [
    {
     "name": "stdout",
     "output_type": "stream",
     "text": [
      "{\"access_token\":\"a9a46dd184ff383cc3ba904ec224ec8d4e59f1ac\",\"expires_in\":86400,\"token_type\":\"Bearer\",\"scope\":\"app_create\"}\n"
     ]
    }
   ],
   "source": [
    "# Authorize\n",
    "post_variables = dict(client_id='413APP-001',client_secret=client_sec,grant_type='client_credentials')\n",
    "\n",
    "authorization = requests.post(auth_url, data = post_variables)\n",
    "\n",
    "print(authorization.text)\n",
    "creds = authorization.json()"
   ]
  },
  {
   "cell_type": "code",
   "execution_count": null,
   "metadata": {},
   "outputs": [],
   "source": [
    "#test ticket\n",
    "ticket_payload = {'quid':'3105',\n",
    "'pquestion':'This is a test created By DCP;ignore',\n",
    "'pdetails':'This is a test created By DCP;ignore'\n",
    "}\n",
    "\n",
    "ticket_request = requests.post(ticket_url, data = ticket_payload, headers={'Authorization': 'Bearer {}'.format(creds['access_token'])})\n",
    "\n",
    "if ticket_request.status_code == 200:\n",
    "    print(\"ticket created\", ticket_request.text)\n",
    "else:\n",
    "    print('Fail: ', ticket_request.status_code)"
   ]
  }
 ],
 "metadata": {
  "kernelspec": {
   "display_name": "Python 3.8.11 ('base')",
   "language": "python",
   "name": "python3"
  },
  "language_info": {
   "codemirror_mode": {
    "name": "ipython",
    "version": 3
   },
   "file_extension": ".py",
   "mimetype": "text/x-python",
   "name": "python",
   "nbconvert_exporter": "python",
   "pygments_lexer": "ipython3",
   "version": "3.8.11"
  },
  "orig_nbformat": 4,
  "vscode": {
   "interpreter": {
    "hash": "26b182fc78ebd06b84f32785a50e0f381e1591de319e766977b94167f90448fb"
   }
  }
 },
 "nbformat": 4,
 "nbformat_minor": 2
}
