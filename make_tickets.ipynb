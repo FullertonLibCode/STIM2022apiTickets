{
 "cells": [
  {
   "cell_type": "code",
   "execution_count": 20,
   "metadata": {},
   "outputs": [],
   "source": [
    "#imports and setup\n",
    "import requests\n",
    "\n",
    "time_outs = (10,60)\n",
    "client_ID = '413APP-001'\n",
    "with open('.api_info','r') as f:\n",
    "    client_sec = f.read()\n",
    "grant_type='client_credentials'\n",
    "auth_url = 'https://libraryanswers.fullerton.edu/api/1.1/oauth/token'\n",
    "ticket_url = 'https://libraryanswers.fullerton.edu/api/1.1/ticket/create'\n",
    "qid ='2306'"
   ]
  },
  {
   "cell_type": "code",
   "execution_count": 22,
   "metadata": {},
   "outputs": [
    {
     "name": "stdout",
     "output_type": "stream",
     "text": [
      "{\"access_token\":\"f23bae232dbe6d61aa9c74a6e86daf3ca82f9d92\",\"expires_in\":86400,\"token_type\":\"Bearer\",\"scope\":\"app_create\"}\n"
     ]
    }
   ],
   "source": [
    "# Authorize\n",
    "post_variables = dict(client_id=client_ID,client_secret=client_sec,grant_type=grant_type)\n",
    "\n",
    "authorization = requests.post(auth_url, data = post_variables,timeout=time_outs)\n",
    "\n",
    "#print(authorization.text)\n",
    "creds = authorization.json()"
   ]
  },
  {
   "cell_type": "code",
   "execution_count": 23,
   "metadata": {},
   "outputs": [
    {
     "name": "stdout",
     "output_type": "stream",
     "text": [
      "ticket created {\"isShared\":false,\"ticketUrl\":\"\\/admin\\/ticket?qid=10717737\",\"claimed\":0}\n"
     ]
    }
   ],
   "source": [
    "#test ticket\n",
    "ticket_payload = {'quid':'2306',\n",
    "'pquestion':'This is a test created By DCP;ignore',\n",
    "'pdetails':'This is a test created By DCP;ignore'\n",
    "}\n",
    "\n",
    "ticket_request = requests.post(ticket_url, timeout=time_outs, data = ticket_payload, headers={'Authorization': 'Bearer {}'.format(creds['access_token'])})\n",
    "\n",
    "if ticket_request.status_code == 200:\n",
    "    print(\"ticket created\", ticket_request.text)\n",
    "else:\n",
    "    print('Fail: ', ticket_request.status_code)"
   ]
  },
  {
   "cell_type": "code",
   "execution_count": 24,
   "metadata": {},
   "outputs": [],
   "source": [
    "import html\n",
    "import pandas as pd"
   ]
  },
  {
   "cell_type": "code",
   "execution_count": 25,
   "metadata": {},
   "outputs": [
    {
     "name": "stdout",
     "output_type": "stream",
     "text": [
      "ticket created {\"isShared\":false,\"ticketUrl\":\"\\/admin\\/ticket?qid=10717738\",\"claimed\":0}\n",
      "ticket created {\"isShared\":false,\"ticketUrl\":\"\\/admin\\/ticket?qid=10717739\",\"claimed\":0}\n"
     ]
    }
   ],
   "source": [
    "\n",
    "# Multi-ticket generation\n",
    "tickets= pd.read_excel('ATIissuesSample.xlsx')\n",
    "tickets.loc[tickets.URL.isna(),'URL'] = 'Link Not Found'\n",
    "tickets[\"Ticketed\"] = False\n",
    "\n",
    "#only do pollak or not pollak at a time\n",
    "#ticket_to_make = tickets[~tickets.Owner.str.contains('Pollak')]\n",
    "ticket_to_make = tickets[tickets.Owner.str.contains('Pollak')]\n",
    "ticket_to_make.set_index(\"ID\")\n",
    "for i,row in ticket_to_make.iterrows():\n",
    "    messageOut = \"\\nPage\\n\"\n",
    "    messageOut += row['URL'] +'\\n'\n",
    "    messageOut += \"Issue Category\\n\"\n",
    "    messageOut += row['ResultText'] +'\\n'\n",
    "    messageOut += \"Issue Details\\n\"\n",
    "    messageOut += html.escape(row['issue']) +'\\n\\n'\n",
    "        \n",
    "    ticket_payload = dict(quid=qid, pquestion='TEST IGNORE: ATI Issues for {}'.format(row['Owner']), pdetails = messageOut)\n",
    "\n",
    "    #print(messageOut)\n",
    "           \n",
    "# create the actual tickets\n",
    "    ticket_request = requests.post(ticket_url, timeout=time_outs, data = ticket_payload, headers={'Authorization': 'Bearer {}'.format(creds['access_token'])})\n",
    "    if ticket_request.status_code == 200:\n",
    "        print(\"ticket created\", ticket_request.text)\n",
    "        tickets.loc[row['ID'],\"Ticketed\"] = True\n",
    "    else:\n",
    "        print('Fail: ',messageOut)\n",
    "        \n",
    "tickets.to_excel('ticketing_results.xlsx', index=False)"
   ]
  },
  {
   "cell_type": "code",
   "execution_count": null,
   "metadata": {},
   "outputs": [],
   "source": []
  }
 ],
 "metadata": {
  "kernelspec": {
   "display_name": "Python 3 (ipykernel)",
   "language": "python",
   "name": "python3"
  },
  "language_info": {
   "codemirror_mode": {
    "name": "ipython",
    "version": 3
   },
   "file_extension": ".py",
   "mimetype": "text/x-python",
   "name": "python",
   "nbconvert_exporter": "python",
   "pygments_lexer": "ipython3",
   "version": "3.8.11"
  },
  "vscode": {
   "interpreter": {
    "hash": "26b182fc78ebd06b84f32785a50e0f381e1591de319e766977b94167f90448fb"
   }
  }
 },
 "nbformat": 4,
 "nbformat_minor": 4
}
